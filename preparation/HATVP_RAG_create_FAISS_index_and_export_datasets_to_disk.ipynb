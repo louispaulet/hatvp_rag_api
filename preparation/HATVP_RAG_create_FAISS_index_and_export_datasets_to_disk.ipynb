{
  "nbformat": 4,
  "nbformat_minor": 0,
  "metadata": {
    "colab": {
      "provenance": []
    },
    "kernelspec": {
      "name": "python3",
      "display_name": "Python 3"
    },
    "language_info": {
      "name": "python"
    }
  },
  "cells": [
    {
      "cell_type": "code",
      "source": [
        "%%capture\n",
        "!pip install datasets faiss-cpu"
      ],
      "metadata": {
        "id": "D8-C__By8s-y"
      },
      "execution_count": null,
      "outputs": []
    },
    {
      "cell_type": "code",
      "execution_count": null,
      "metadata": {
        "id": "KDSMS3GU8mv9"
      },
      "outputs": [],
      "source": [
        "import faiss\n",
        "import numpy as np\n",
        "from datasets import load_dataset\n",
        "\n",
        "# Load the dataset\n",
        "embed_ds = load_dataset(\"the-french-artist/hatvp_declarations_text_index_embeds\", split='train')\n",
        "\n",
        "# Add FAISS index\n",
        "embed_ds.add_faiss_index(column='text_index_embedding')\n",
        "\n",
        "# Save the FAISS index\n",
        "embed_ds.save_faiss_index('text_index_embedding', 'hatvp_rag_index.faiss')\n",
        "\n",
        "# drop index and save dataset to disk\n",
        "embed_ds.drop_index('text_index_embedding')\n",
        "embed_ds.save_to_disk(\"hatvp_declaration_dataset.hf\")\n",
        "\n"
      ]
    }
  ]
}